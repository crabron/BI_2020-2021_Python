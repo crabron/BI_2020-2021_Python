{
 "cells": [
  {
   "cell_type": "code",
   "execution_count": 55,
   "metadata": {},
   "outputs": [
    {
     "name": "stdout",
     "output_type": "stream",
     "text": [
      "1 Length\n",
      "2 Mass\n",
      "3 Speed\n",
      "4 Volume\n",
      "5 Area\n",
      "6 Fuel consumption\n",
      "7 Time\n",
      "8 Digital Storage\n",
      "Категории конвертации. Введите число соответствующее нужной категории.\n",
      "4\n",
      "1 US gal\n",
      "2 US quart\n",
      "3 US pint\n",
      "4 US cup\n",
      "5 US oz\n",
      "6 US tbsp.\n",
      "7 US tsp.\n",
      "8 Cubic meter\n",
      "9 Liter\n",
      "10 Milliliter\n",
      "11 Imperial gal\n",
      "12 Imperial quart\n",
      "13 Imperial pint\n",
      "14 Imperial oz\n",
      "15 Imperial tbsp.\n",
      "16 Imperial tsp.\n",
      "17 Cubic foot\n",
      "18 Cubic inch\n",
      "В данной категории возможна конвертация следующих штуковин. Введите число соответствующее нужной штуковине, из которой Вы хотите конвертировать.\n",
      "5\n",
      "В какую штуковину из списка выше вы хотите конвертировать?\n",
      "3\n",
      "Сколько у вас штуковин для конвертации?\n",
      "44\n",
      "Результат:\n",
      "2.75\n"
     ]
    }
   ],
   "source": [
    "import pandas as pd\n",
    "\n",
    "df = pd.read_csv(\"units-conversion-table.csv\", sep=\",\")\n",
    "df = df.rename(columns={'conversion_type': 'Conversion_type',\n",
    "                        'from': 'From',\n",
    "                        'to': 'To',\n",
    "                        'multiply_by': 'Multiply_by'}, inplace=False)\n",
    "solitude_type = [i for i in df.Conversion_type.unique()]\n",
    "solitude_type_num = [i for i in range(1, len(solitude_type) + 1)]\n",
    "solitude_type = zip(solitude_type_num, solitude_type)\n",
    "d_solitude_type = dict(solitude_type)\n",
    "for i in d_solitude_type.keys():\n",
    "    print(i, d_solitude_type.get(i))\n",
    "print(\"Категории конвертации. Введите число соответствующее нужной категории.\")\n",
    "sel_1 = int(input())\n",
    "type_get = d_solitude_type.get(sel_1)\n",
    "solitude_from = [i for i in\n",
    "                 df[df[\"Conversion_type\"] == type_get].From.unique()]\n",
    "solitude_from_num = [i for i in range(1, len(solitude_from) + 1)]\n",
    "solitude_from = zip(solitude_from_num, solitude_from)\n",
    "d_solitude_from = dict(solitude_from)\n",
    "for i in d_solitude_from.keys():\n",
    "    print(i, d_solitude_from.get(i))\n",
    "print(\"В данной категории возможна конвертация следующих штуковин. \"\n",
    "      \"Введите число соответствующее нужной штуковине,\"\n",
    "      \" из которой Вы хотите конвертировать.\")\n",
    "[print(i[0], i[1]) for i in solitude_from]\n",
    "sel_2 = int(input())\n",
    "print(\"В какую штуковину из списка выше вы хотите конвертировать?\")\n",
    "sel_3 = int(input())\n",
    "print(\"Сколько у вас штуковин для конвертации?\")\n",
    "sel_2_value = float(input())\n",
    "print(\"Результат:\")\n",
    "print(sel_2_value * float(df[(df['From'] == d_solitude_from.get(sel_2)) & \\\n",
    "                             (df['To'] == d_solitude_from.get(sel_3))].iloc[0][\"Multiply_by\"]))\n"
   ]
  },
  {
   "cell_type": "code",
   "execution_count": 59,
   "metadata": {},
   "outputs": [
    {
     "data": {
      "text/html": [
       "<div>\n",
       "<style scoped>\n",
       "    .dataframe tbody tr th:only-of-type {\n",
       "        vertical-align: middle;\n",
       "    }\n",
       "\n",
       "    .dataframe tbody tr th {\n",
       "        vertical-align: top;\n",
       "    }\n",
       "\n",
       "    .dataframe thead th {\n",
       "        text-align: right;\n",
       "    }\n",
       "</style>\n",
       "<table border=\"1\" class=\"dataframe\">\n",
       "  <thead>\n",
       "    <tr style=\"text-align: right;\">\n",
       "      <th></th>\n",
       "      <th>Conversion_type</th>\n",
       "      <th>From</th>\n",
       "      <th>To</th>\n",
       "      <th>Multiply_by</th>\n",
       "    </tr>\n",
       "  </thead>\n",
       "  <tbody>\n",
       "  </tbody>\n",
       "</table>\n",
       "</div>"
      ],
      "text/plain": [
       "Empty DataFrame\n",
       "Columns: [Conversion_type, From, To, Multiply_by]\n",
       "Index: []"
      ]
     },
     "execution_count": 59,
     "metadata": {},
     "output_type": "execute_result"
    }
   ],
   "source": [
    "df.query(\"To == '{d_solitude_from.get(sel_2)}' & From == '{d_solitude_from.get(sel_3)}'\")"
   ]
  },
  {
   "cell_type": "code",
   "execution_count": 79,
   "metadata": {},
   "outputs": [
    {
     "data": {
      "text/html": [
       "<div>\n",
       "<style scoped>\n",
       "    .dataframe tbody tr th:only-of-type {\n",
       "        vertical-align: middle;\n",
       "    }\n",
       "\n",
       "    .dataframe tbody tr th {\n",
       "        vertical-align: top;\n",
       "    }\n",
       "\n",
       "    .dataframe thead th {\n",
       "        text-align: right;\n",
       "    }\n",
       "</style>\n",
       "<table border=\"1\" class=\"dataframe\">\n",
       "  <thead>\n",
       "    <tr style=\"text-align: right;\">\n",
       "      <th></th>\n",
       "      <th>Conversion_type</th>\n",
       "      <th>From</th>\n",
       "      <th>To</th>\n",
       "      <th>Multiply_by</th>\n",
       "    </tr>\n",
       "  </thead>\n",
       "  <tbody>\n",
       "  </tbody>\n",
       "</table>\n",
       "</div>"
      ],
      "text/plain": [
       "Empty DataFrame\n",
       "Columns: [Conversion_type, From, To, Multiply_by]\n",
       "Index: []"
      ]
     },
     "execution_count": 79,
     "metadata": {},
     "output_type": "execute_result"
    }
   ],
   "source": [
    "df.query('To == \"{d_solitude_from.get(sel_2)}\" & From == \"{d_solitude_from.get(sel_3)}\"')"
   ]
  },
  {
   "cell_type": "code",
   "execution_count": 17,
   "metadata": {},
   "outputs": [
    {
     "data": {
      "text/plain": [
       "{1: 'Miles/hour', 2: 'Feet/sec', 3: 'Meters/sec', 4: 'Km/hour', 5: 'Knot'}"
      ]
     },
     "execution_count": 17,
     "metadata": {},
     "output_type": "execute_result"
    }
   ],
   "source": [
    "d_solitude_from.get(sel_2)\n",
    "d_solitude_from.get(sel_3)\n",
    "# df[df[\"Conversion_type\"] == type_get].From.unique()]\n",
    "d_solitude_type\n",
    "d_solitude_from\n",
    "# sel_2\n",
    "# sel_3"
   ]
  },
  {
   "cell_type": "code",
   "execution_count": 46,
   "metadata": {},
   "outputs": [
    {
     "data": {
      "text/plain": [
       "'(\"To\" == \"Gram\") & (\"From\" == \"Milligram\")'"
      ]
     },
     "execution_count": 46,
     "metadata": {},
     "output_type": "execute_result"
    }
   ],
   "source": [
    "f'(\"To\" == \"{d_solitude_from.get(sel_2)}\") & (\"From\" == \"{d_solitude_from.get(sel_3)}\")'"
   ]
  },
  {
   "cell_type": "code",
   "execution_count": 35,
   "metadata": {},
   "outputs": [
    {
     "data": {
      "text/plain": [
       "0.3048"
      ]
     },
     "execution_count": 35,
     "metadata": {},
     "output_type": "execute_result"
    }
   ],
   "source": [
    "df[(df['From'] == d_solitude_from.get(sel_2)) & (df['To'] == d_solitude_from.get(sel_3))].iloc[0][\"Multiply_by\"]"
   ]
  },
  {
   "cell_type": "code",
   "execution_count": 92,
   "metadata": {},
   "outputs": [
    {
     "name": "stdout",
     "output_type": "stream",
     "text": [
      "3\n",
      "000\n",
      "00\n",
      "001\n",
      "00\n",
      "0\n",
      "010\n",
      "01\n",
      "011\n",
      "01\n",
      "0\n",
      "\n",
      "100\n",
      "10\n",
      "101\n",
      "10\n",
      "1\n",
      "110\n",
      "11\n",
      "111\n",
      "11\n",
      "1\n",
      "\n"
     ]
    }
   ],
   "source": [
    "n = int(input())\n",
    "\n",
    "def gen(n, prefix):\n",
    "    if len(prefix) == n:\n",
    "        print(prefix)\n",
    "        return\n",
    "    gen(n, prefix + '0')\n",
    "    print(prefix)\n",
    "    gen(n, prefix + '1')\n",
    "    print(prefix)\n",
    "gen(n, \"\")"
   ]
  },
  {
   "cell_type": "code",
   "execution_count": 91,
   "metadata": {},
   "outputs": [
    {
     "name": "stdout",
     "output_type": "stream",
     "text": [
      "4\n",
      "[1, 2, 3, 4]\n",
      "0000\n",
      "0001\n",
      "0010\n",
      "0011\n",
      "0100\n",
      "0101\n",
      "0110\n",
      "0111\n",
      "1000\n",
      "1001\n",
      "1010\n",
      "1011\n",
      "1100\n",
      "1101\n",
      "1110\n",
      "1111\n"
     ]
    }
   ],
   "source": [
    "n = int(input())\n",
    "\n",
    "l = [i for i in range(1,n + 1)]\n",
    "print(l)\n",
    "\n",
    "def gen(n, prefix):\n",
    "    if len(prefix) == n:\n",
    "        print(prefix)\n",
    "        return\n",
    "    gen(n, prefix + [])\n",
    "    gen(n, prefix + '1')\n",
    "\n",
    "gen(n, \"\")"
   ]
  }
 ],
 "metadata": {
  "kernelspec": {
   "display_name": "Python 3",
   "language": "python",
   "name": "python3"
  },
  "language_info": {
   "codemirror_mode": {
    "name": "ipython",
    "version": 3
   },
   "file_extension": ".py",
   "mimetype": "text/x-python",
   "name": "python",
   "nbconvert_exporter": "python",
   "pygments_lexer": "ipython3",
   "version": "3.7.9"
  }
 },
 "nbformat": 4,
 "nbformat_minor": 4
}
